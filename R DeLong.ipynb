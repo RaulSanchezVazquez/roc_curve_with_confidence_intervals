{
 "cells": [
  {
   "cell_type": "code",
   "execution_count": 1,
   "metadata": {},
   "outputs": [
    {
     "data": {
      "text/plain": [
       "               _                           \n",
       "platform       x86_64-apple-darwin13.4.0   \n",
       "arch           x86_64                      \n",
       "os             darwin13.4.0                \n",
       "system         x86_64, darwin13.4.0        \n",
       "status                                     \n",
       "major          3                           \n",
       "minor          6.1                         \n",
       "year           2019                        \n",
       "month          07                          \n",
       "day            05                          \n",
       "svn rev        76782                       \n",
       "language       R                           \n",
       "version.string R version 3.6.1 (2019-07-05)\n",
       "nickname       Action of the Toes          "
      ]
     },
     "metadata": {},
     "output_type": "display_data"
    }
   ],
   "source": [
    "version"
   ]
  },
  {
   "cell_type": "markdown",
   "metadata": {},
   "source": [
    "# The data\n",
    "\n",
    "I used the iris dataset to create a binary classification task where the possitive class corresponds to the `setosa` class.\n",
    "\n",
    "The `y_score` is simply the `sepal length` feature rescaled between `[0, 1]`."
   ]
  },
  {
   "cell_type": "code",
   "execution_count": 2,
   "metadata": {},
   "outputs": [
    {
     "name": "stderr",
     "output_type": "stream",
     "text": [
      "Type 'citation(\"pROC\")' for a citation.\n",
      "\n",
      "Attaching package: ‘pROC’\n",
      "\n",
      "The following objects are masked from ‘package:stats’:\n",
      "\n",
      "    cov, smooth, var\n",
      "\n",
      "Setting levels: control = 0, case = 1\n",
      "Setting direction: controls > cases\n"
     ]
    },
    {
     "data": {
      "text/plain": [
       "\n",
       "Call:\n",
       "roc.default(response = y_true, predictor = y_score)\n",
       "\n",
       "Data: y_score in 100 controls (y_true 0) > 50 cases (y_true 1).\n",
       "Area under the curve: 0.9586"
      ]
     },
     "metadata": {},
     "output_type": "display_data"
    }
   ],
   "source": [
    "library(pROC)\n",
    "library(datasets)\n",
    "\n",
    "data(iris)\n",
    "\n",
    "y_true = as.integer(iris$Species == 'setosa')\n",
    "y_score = iris$Sepal.Length\n",
    "y_score = (y_score - min(y_score)) / (max(y_score) - min(y_score))\n",
    "\n",
    "y_pred = as.integer(y_score > .5)\n",
    "\n",
    "roc = roc(y_true, y_score)\n",
    "roc"
   ]
  },
  {
   "cell_type": "code",
   "execution_count": 3,
   "metadata": {},
   "outputs": [
    {
     "name": "stdout",
     "output_type": "stream",
     "text": [
      "95% CI: 0.9302-0.987 (DeLong)\n"
     ]
    }
   ],
   "source": [
    "print(ci(roc))"
   ]
  },
  {
   "cell_type": "code",
   "execution_count": null,
   "metadata": {},
   "outputs": [],
   "source": []
  }
 ],
 "metadata": {
  "kernelspec": {
   "display_name": "R",
   "language": "R",
   "name": "ir"
  },
  "language_info": {
   "codemirror_mode": "r",
   "file_extension": ".r",
   "mimetype": "text/x-r-source",
   "name": "R",
   "pygments_lexer": "r",
   "version": "3.6.1"
  }
 },
 "nbformat": 4,
 "nbformat_minor": 2
}
